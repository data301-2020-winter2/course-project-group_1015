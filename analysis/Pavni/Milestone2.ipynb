{
 "cells": [
  {
   "cell_type": "code",
   "execution_count": 1,
   "metadata": {},
   "outputs": [
    {
     "data": {
      "text/plain": [
       "Age                         False\n",
       "Gender                      False\n",
       "BMI                         False\n",
       "Chiildren                   False\n",
       "Tobacco User                False\n",
       "Region                      False\n",
       "Medical Costs per region    False\n",
       "dtype: bool"
      ]
     },
     "execution_count": 1,
     "metadata": {},
     "output_type": "execute_result"
    }
   ],
   "source": [
    "import pandas as pd\n",
    "import numpy as np\n",
    "#from sklearn.datasets import load_wine\n",
    "\n",
    "#data = pd.read_csv('Medical_Cost.csv')# this a data file that gets loaded\n",
    "\n",
    "# Method chaining begins\n",
    "\n",
    "df = (   \n",
    "   pd.read_csv('Medical_Cost.csv')\n",
    "          .rename(columns={\"charges\": \"Medical Costs per region\"})\n",
    "          .rename(columns={\"sex\": \"Gender\"})\n",
    "          .rename(columns={\"smoker\": \"Tobacco User\"})\n",
    "          .rename(columns={\"age\": \"Age\"})\n",
    "          .rename(columns={\"region\": \"Region\"})\n",
    "          .rename(columns={\"children\": \"Chiildren\"})\n",
    "          .rename(columns={\"bmi\": \"BMI\"})\n",
    "          .isnull().any()\n",
    "          #pd.options.display.float_format = '{:.2f}'.format\n",
    "\n",
    ")\n",
    "\n",
    "#df1 = df.isnull().sum()\n",
    "\n",
    "#df2 = df.style.format({'Medical Costs per region': \"{:.2f}\"})\n",
    "df['Medical Costs per region'] = df['Medical Costs per region'].astype(float).round(2)\n",
    "df"
   ]
  },
  {
   "cell_type": "code",
   "execution_count": 2,
   "metadata": {},
   "outputs": [
    {
     "data": {
      "text/plain": [
       "Age                         False\n",
       "Gender                      False\n",
       "BMI                         False\n",
       "Chiildren                   False\n",
       "Tobacco User                False\n",
       "Region                      False\n",
       "Medical Costs per region    False\n",
       "dtype: bool"
      ]
     },
     "execution_count": 2,
     "metadata": {},
     "output_type": "execute_result"
    }
   ],
   "source": [
    "df"
   ]
  },
  {
   "cell_type": "code",
   "execution_count": null,
   "metadata": {},
   "outputs": [],
   "source": []
  },
  {
   "cell_type": "code",
   "execution_count": null,
   "metadata": {},
   "outputs": [],
   "source": []
  }
 ],
 "metadata": {
  "kernelspec": {
   "display_name": "Python 3",
   "language": "python",
   "name": "python3"
  },
  "language_info": {
   "codemirror_mode": {
    "name": "ipython",
    "version": 3
   },
   "file_extension": ".py",
   "mimetype": "text/x-python",
   "name": "python",
   "nbconvert_exporter": "python",
   "pygments_lexer": "ipython3",
   "version": "3.8.5"
  }
 },
 "nbformat": 4,
 "nbformat_minor": 5
}
